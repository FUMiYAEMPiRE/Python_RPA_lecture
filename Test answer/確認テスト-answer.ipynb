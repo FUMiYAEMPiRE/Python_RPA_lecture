{
 "cells": [
  {
   "cell_type": "markdown",
   "metadata": {},
   "source": [
    "# 確認テスト"
   ]
  },
  {
   "cell_type": "markdown",
   "metadata": {},
   "source": [
    "- 制限時間30分"
   ]
  },
  {
   "cell_type": "markdown",
   "metadata": {},
   "source": [
    "前回資料\n",
    "- 第一回  変数&データ型について\n",
    "https://fumiyaempire.github.io/Python_RPA_lecture/docs/%E7%AC%AC%E4%B8%80%E5%9B%9E%20%E5%A4%89%E6%95%B0&%E3%83%87%E3%83%BC%E3%82%BF%E5%9E%8B%E3%81%AB%E3%81%A4%E3%81%84%E3%81%A6%20.html#%E5%A4%89%E6%95%B0%E3%81%AB%E3%81%A4%E3%81%84%E3%81%A6\n",
    "<br>\n",
    "\n",
    "- 第二回 リスト&演算子&条件分岐について\n",
    "https://fumiyaempire.github.io/Python_RPA_lecture/docs/%E7%AC%AC%E4%BA%8C%E5%9B%9E%20%E3%83%AA%E3%82%B9%E3%83%88&%E6%BC%94%E7%AE%97%E5%AD%90&%E6%9D%A1%E4%BB%B6%E5%88%86%E5%B2%90%E3%81%AB%E3%81%A4%E3%81%84%E3%81%A6.html"
   ]
  },
  {
   "cell_type": "markdown",
   "metadata": {},
   "source": [
    "----"
   ]
  },
  {
   "cell_type": "markdown",
   "metadata": {},
   "source": [
    " ### 問題1 "
   ]
  },
  {
   "cell_type": "markdown",
   "metadata": {},
   "source": [
    "- 変数『a』にsato、suzuki、tanaka、takahashiが格納されているリストを代入しなさい。"
   ]
  },
  {
   "cell_type": "code",
   "execution_count": 1,
   "metadata": {},
   "outputs": [],
   "source": [
    "a = [\"sato\", \"suzuki\", \"tanaka\", \"takahashi\"]"
   ]
  },
  {
   "cell_type": "markdown",
   "metadata": {},
   "source": [
    "----"
   ]
  },
  {
   "cell_type": "markdown",
   "metadata": {},
   "source": [
    "### 問題2"
   ]
  },
  {
   "cell_type": "markdown",
   "metadata": {},
   "source": [
    "- 問題1で宣言した変数『a』の、リストの1番目を**`print`**で出力しなさい"
   ]
  },
  {
   "cell_type": "code",
   "execution_count": 2,
   "metadata": {},
   "outputs": [
    {
     "name": "stdout",
     "output_type": "stream",
     "text": [
      "sato\n"
     ]
    }
   ],
   "source": [
    "print(a[0])"
   ]
  },
  {
   "cell_type": "markdown",
   "metadata": {},
   "source": [
    "---"
   ]
  },
  {
   "cell_type": "markdown",
   "metadata": {},
   "source": [
    "### 問題3"
   ]
  },
  {
   "cell_type": "markdown",
   "metadata": {},
   "source": [
    "- 変数『a』の3番目のインデックスを、`inoue`に変更し、変数『a』を`print`で出力しなさい"
   ]
  },
  {
   "cell_type": "code",
   "execution_count": 3,
   "metadata": {
    "scrolled": true
   },
   "outputs": [
    {
     "name": "stdout",
     "output_type": "stream",
     "text": [
      "['sato', 'suzuki', 'inoue', 'takahashi']\n"
     ]
    }
   ],
   "source": [
    "a[2] = \"inoue\"\n",
    "\n",
    "print(a)"
   ]
  },
  {
   "cell_type": "markdown",
   "metadata": {},
   "source": [
    "---"
   ]
  },
  {
   "cell_type": "markdown",
   "metadata": {},
   "source": [
    "### 問題4"
   ]
  },
  {
   "cell_type": "markdown",
   "metadata": {},
   "source": [
    "- 変数『b』には2次元配列が代入されています。`print`でそれぞれリストに格納されている`sato`、`tanaka`、`nakayama`を出力しなさい。"
   ]
  },
  {
   "cell_type": "code",
   "execution_count": 4,
   "metadata": {},
   "outputs": [
    {
     "name": "stdout",
     "output_type": "stream",
     "text": [
      "sato\n",
      "tanaka\n",
      "nakayama\n"
     ]
    }
   ],
   "source": [
    "b = [[\"suzuki\", \"sato\"], [\"tanaka\", \"takahashi\"], [\"inoue\", \"nakayama\"]]\n",
    "\n",
    "print(b[0][1])\n",
    "print(b[1][0])\n",
    "print(b[2][1])"
   ]
  },
  {
   "cell_type": "markdown",
   "metadata": {},
   "source": [
    "----"
   ]
  },
  {
   "cell_type": "markdown",
   "metadata": {},
   "source": [
    "### 問題5"
   ]
  },
  {
   "cell_type": "markdown",
   "metadata": {},
   "source": [
    "- `x`に数字の4、`y`に数字の10を代入し、`x`は5と等しいかつ、`y`は8と等価ではない。という論理演算子を`print`で出力しなさい。"
   ]
  },
  {
   "cell_type": "code",
   "execution_count": 5,
   "metadata": {},
   "outputs": [
    {
     "name": "stdout",
     "output_type": "stream",
     "text": [
      "False\n"
     ]
    }
   ],
   "source": [
    "x = 4\n",
    "y = 10\n",
    "\n",
    "print(x == 5 and y != 8)"
   ]
  },
  {
   "cell_type": "markdown",
   "metadata": {},
   "source": [
    "---"
   ]
  },
  {
   "cell_type": "markdown",
   "metadata": {},
   "source": [
    "### 問題6"
   ]
  },
  {
   "cell_type": "markdown",
   "metadata": {},
   "source": [
    "- `x`に数字の9、`y`に数字の6を代入し、`x`は5以上または`y`は8以下。という論理演算子を`print`で出力しなさい。"
   ]
  },
  {
   "cell_type": "code",
   "execution_count": 6,
   "metadata": {},
   "outputs": [
    {
     "name": "stdout",
     "output_type": "stream",
     "text": [
      "True\n"
     ]
    }
   ],
   "source": [
    "x = 9\n",
    "y = 6\n",
    "\n",
    "print(x >= 5 or y <= 8)"
   ]
  },
  {
   "cell_type": "markdown",
   "metadata": {},
   "source": [
    "---"
   ]
  },
  {
   "cell_type": "markdown",
   "metadata": {},
   "source": [
    "### 問題7"
   ]
  },
  {
   "cell_type": "markdown",
   "metadata": {},
   "source": [
    "- 『age』という変数には、10が代入されています。『age』が20以上なら`print`でadultと出力するif文を完成させなさい。"
   ]
  },
  {
   "cell_type": "code",
   "execution_count": 7,
   "metadata": {},
   "outputs": [],
   "source": [
    "age = 10\n",
    "\n",
    "if age >= 20:\n",
    "    print(\"adult\")"
   ]
  },
  {
   "cell_type": "markdown",
   "metadata": {},
   "source": [
    "---"
   ]
  },
  {
   "cell_type": "markdown",
   "metadata": {},
   "source": [
    "### 問題8"
   ]
  },
  {
   "cell_type": "markdown",
   "metadata": {},
   "source": [
    "- 『age』が、20以上ならadult、それ以外ならchildを`print`で出力するif文を完成させなさい。"
   ]
  },
  {
   "cell_type": "code",
   "execution_count": 9,
   "metadata": {},
   "outputs": [
    {
     "name": "stdout",
     "output_type": "stream",
     "text": [
      "child\n"
     ]
    }
   ],
   "source": [
    "age = 10\n",
    "\n",
    "if age >= 20:\n",
    "    print(\"adult\")\n",
    "else:\n",
    "    print(\"child\")"
   ]
  },
  {
   "cell_type": "markdown",
   "metadata": {},
   "source": [
    "---"
   ]
  },
  {
   "cell_type": "markdown",
   "metadata": {},
   "source": [
    "### 問題9"
   ]
  },
  {
   "cell_type": "markdown",
   "metadata": {},
   "source": [
    "- ageが20以上ならadult、10以上ならteen、10より小さければchildを`print`で出力するif文を完成させなさい。"
   ]
  },
  {
   "cell_type": "code",
   "execution_count": 10,
   "metadata": {},
   "outputs": [
    {
     "name": "stdout",
     "output_type": "stream",
     "text": [
      "teen\n"
     ]
    }
   ],
   "source": [
    "age = 10\n",
    "\n",
    "if age >= 20:\n",
    "    print(\"adult\")\n",
    "elif age >= 10:\n",
    "    print(\"teen\")\n",
    "elif age< 10:\n",
    "    print(\"child\")"
   ]
  }
 ],
 "metadata": {
  "kernelspec": {
   "display_name": "Python 3",
   "language": "python",
   "name": "python3"
  },
  "language_info": {
   "codemirror_mode": {
    "name": "ipython",
    "version": 3
   },
   "file_extension": ".py",
   "mimetype": "text/x-python",
   "name": "python",
   "nbconvert_exporter": "python",
   "pygments_lexer": "ipython3",
   "version": "3.7.7"
  }
 },
 "nbformat": 4,
 "nbformat_minor": 4
}
