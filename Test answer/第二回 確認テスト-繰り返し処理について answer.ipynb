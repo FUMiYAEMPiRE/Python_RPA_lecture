{
 "cells": [
  {
   "cell_type": "markdown",
   "metadata": {},
   "source": [
    "# 第二回 確認テスト-繰り返し処理"
   ]
  },
  {
   "cell_type": "markdown",
   "metadata": {},
   "source": [
    "- 制限時間60分"
   ]
  },
  {
   "cell_type": "markdown",
   "metadata": {},
   "source": [
    "前回資料\n",
    "- 第二回 リスト&演算子&条件分岐について\n",
    "https://fumiyaempire.github.io/Python_RPA_lecture/docs/%E7%AC%AC%E4%BA%8C%E5%9B%9E%20%E3%83%AA%E3%82%B9%E3%83%88&%E6%BC%94%E7%AE%97%E5%AD%90&%E6%9D%A1%E4%BB%B6%E5%88%86%E5%B2%90%E3%81%AB%E3%81%A4%E3%81%84%E3%81%A6.html\n",
    "\n",
    "- 第三回 繰り返し処理について\n",
    "https://fumiyaempire.github.io/Python_RPA_lecture/docs/Python%20basics/%E7%AC%AC%E4%B8%89%E5%9B%9E%20%E7%B9%B0%E3%82%8A%E8%BF%94%E3%81%97%E5%87%A6%E7%90%86%20.html\n"
   ]
  },
  {
   "cell_type": "markdown",
   "metadata": {},
   "source": [
    "---"
   ]
  },
  {
   "cell_type": "markdown",
   "metadata": {},
   "source": [
    "### 問題1"
   ]
  },
  {
   "cell_type": "markdown",
   "metadata": {},
   "source": [
    "- ループを5回繰り返し、カウンタ変数『**`i`**』を`print`で出力しなさい"
   ]
  },
  {
   "cell_type": "code",
   "execution_count": null,
   "metadata": {},
   "outputs": [],
   "source": []
  },
  {
   "cell_type": "markdown",
   "metadata": {},
   "source": [
    "---"
   ]
  },
  {
   "cell_type": "markdown",
   "metadata": {},
   "source": [
    "### 問題3"
   ]
  },
  {
   "cell_type": "markdown",
   "metadata": {},
   "source": [
    "変数`a`には、5つの要素が格納されているリストです。\n",
    "- リストに格納されている要素数ぶんループを回し、その要素を`print`で出力しなさい。"
   ]
  },
  {
   "cell_type": "code",
   "execution_count": 4,
   "metadata": {},
   "outputs": [
    {
     "name": "stdout",
     "output_type": "stream",
     "text": [
      "いちご\n",
      "みかん\n",
      "りんご\n",
      "ぶどう\n",
      "かき\n"
     ]
    }
   ],
   "source": [
    "a = [\"いちご\", \"みかん\", \"りんご\", \"ぶどう\", \"かき\"]\n",
    "\n",
    "for i in range(len(a)):\n",
    "    print(a[i])"
   ]
  },
  {
   "cell_type": "markdown",
   "metadata": {},
   "source": [
    "---"
   ]
  },
  {
   "cell_type": "markdown",
   "metadata": {},
   "source": [
    "### 問題4"
   ]
  },
  {
   "cell_type": "markdown",
   "metadata": {},
   "source": [
    "- 問題3で使用したリストを用いて、もし要素の中身が『りんご』だった場合、処理を終了させなさい。"
   ]
  },
  {
   "cell_type": "code",
   "execution_count": null,
   "metadata": {},
   "outputs": [],
   "source": []
  },
  {
   "cell_type": "markdown",
   "metadata": {},
   "source": [
    "---"
   ]
  },
  {
   "cell_type": "markdown",
   "metadata": {},
   "source": [
    "### 問題5"
   ]
  },
  {
   "cell_type": "markdown",
   "metadata": {},
   "source": [
    "- 問題3で使用したリストを用いて、もし要素の中身が『みかん』だった場合、処理をスキップさせなさい。"
   ]
  },
  {
   "cell_type": "code",
   "execution_count": null,
   "metadata": {},
   "outputs": [],
   "source": []
  },
  {
   "cell_type": "markdown",
   "metadata": {},
   "source": [
    "---"
   ]
  },
  {
   "cell_type": "markdown",
   "metadata": {},
   "source": [
    "### 問題6"
   ]
  },
  {
   "cell_type": "markdown",
   "metadata": {},
   "source": [
    "変数`b`には二次元配列が格納されています。\n",
    "- ループを二次元目の数だけ回し、それぞれの要素の2番目だけを出力しなさい。"
   ]
  },
  {
   "cell_type": "code",
   "execution_count": null,
   "metadata": {},
   "outputs": [],
   "source": [
    "b = [[\"いちご\", \"みかん\"], [\"りんご\", \"ぶどう\"], [\"かき\", \"もも\"]]\n",
    "\n"
   ]
  },
  {
   "cell_type": "markdown",
   "metadata": {},
   "source": [
    "---"
   ]
  },
  {
   "cell_type": "markdown",
   "metadata": {},
   "source": [
    "### 問題7"
   ]
  },
  {
   "cell_type": "markdown",
   "metadata": {},
   "source": [
    "変数`b`には二次元配列が格納されています。\n",
    "- for文の`ネスト`を用いて、配列の中身を全て`print`で出力しなさい"
   ]
  },
  {
   "cell_type": "code",
   "execution_count": 12,
   "metadata": {},
   "outputs": [
    {
     "name": "stdout",
     "output_type": "stream",
     "text": [
      "りんご\n",
      "パイナップル\n",
      "かき\n",
      "もも\n"
     ]
    }
   ],
   "source": [
    "b = [[\"いちご\", \"みかん\"], [\"りんご\", \"ぶどう\", \"パイナップル\"], [\"かき\", \"もも\"]]\n",
    "\n",
    "num = len(b)\n",
    "\n",
    "for i in range(num):\n",
    "    if i == 0:\n",
    "        continue\n",
    "    num_2 = len(b[i])\n",
    "    for j in range(num_2):\n",
    "        f_name = b[i][j]\n",
    "        if f_name == \"ぶどう\":\n",
    "            continue\n",
    "        print(f_name)"
   ]
  },
  {
   "cell_type": "code",
   "execution_count": null,
   "metadata": {},
   "outputs": [],
   "source": []
  }
 ],
 "metadata": {
  "kernelspec": {
   "display_name": "Python 3",
   "language": "python",
   "name": "python3"
  },
  "language_info": {
   "codemirror_mode": {
    "name": "ipython",
    "version": 3
   },
   "file_extension": ".py",
   "mimetype": "text/x-python",
   "name": "python",
   "nbconvert_exporter": "python",
   "pygments_lexer": "ipython3",
   "version": "3.8.2-final"
  }
 },
 "nbformat": 4,
 "nbformat_minor": 4
}
